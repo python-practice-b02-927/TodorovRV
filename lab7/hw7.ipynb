{
 "cells": [
  {
   "cell_type": "markdown",
   "metadata": {},
   "source": [
    "### <font color=darkred>Упражнение 1. Векторное произведение</font>\n",
    "\n",
    "Перегрузите оператор `@` так, чтобы при его применении к экземплярам класса `Vector` вычислялось векторное произведение. \n",
    "\n",
    "#### Пример использования оператора `@`:\n",
    "```python\n",
    ">>> v1 = Vector(1, 0, 0)\n",
    ">>> v2 = Vector(0, 1, 0)\n",
    ">>> v3 = v1 @ v2\n",
    ">>> print(v3)\n",
    "<0, 0, 1>\n",
    ">>> v4 = v2 @ v1\n",
    ">>> print(v4)\n",
    "<0, 0, -1>\n",
    "```"
   ]
  },
  {
   "cell_type": "code",
   "execution_count": 3,
   "metadata": {},
   "outputs": [
    {
     "name": "stdout",
     "output_type": "stream",
     "text": [
      "<0, 0, 1>\n",
      "<0, 0, -1>\n"
     ]
    }
   ],
   "source": [
    "class Vector:\n",
    "    def __init__(self, x, y, z):\n",
    "        self.x = x\n",
    "        self.y = y\n",
    "        self.z = z\n",
    "    \n",
    "    def __str__(self):\n",
    "        # f-строки поддерживаются, начиная с Python версии 3.6.\n",
    "        # Если у Вас версия Python < 3.6 используйте\n",
    "        # метод `str.format()`.\n",
    "        s = f\"<{self.x}, {self.y}, {self.z}>\"\n",
    "        # s = \"<{}, {}, {}>\".format(self.x, self.y, self.z)\n",
    "        return s\n",
    "    \n",
    "    def __matmul__(self, other):\n",
    "        x1 = self.y * other.z - self.z * other.y\n",
    "        y1 = -(self.x * other.z - self.z * other.x)\n",
    "        z1 = self.x * other.y - self.y * other.x\n",
    "        return Vector(x1, y1, z1)\n",
    "        \n",
    "v1 = Vector(1, 0, 0)\n",
    "v2 = Vector(0, 1, 0)\n",
    "v3 = v1 @ v2\n",
    "print(v3)\n",
    "v4 = v2 @ v1\n",
    "print(v4)"
   ]
  },
  {
   "cell_type": "markdown",
   "metadata": {},
   "source": [
    "# <font color=blue>Операторы `()`, `[]`</font>\n",
    "\n",
    "## <font color=green>Как сделать экземпляры класса вызываемыми</font>\n",
    "\n",
    "Если у класса есть метод `__call__()`, то объекты этого класса можно вызывать, как функции. \n",
    "\n",
    "### Пример 1"
   ]
  },
  {
   "cell_type": "code",
   "execution_count": 1,
   "metadata": {},
   "outputs": [
    {
     "name": "stdout",
     "output_type": "stream",
     "text": [
      "You called me with arguments 1 2!\n"
     ]
    }
   ],
   "source": [
    "class CallOpOverload:\n",
    "    def __call__(self, x, y):\n",
    "        print(\"You called me with arguments {} {}!\".format(x, y))\n",
    "        \n",
    "obj = CallOpOverload()\n",
    "obj(1, 2)"
   ]
  },
  {
   "cell_type": "markdown",
   "metadata": {},
   "source": [
    "Функции и методы -- это еще 2 типа объектов, у которых есть метод `__call__()`. У метода `__call__()` тоже есть метод `__call__()`. И так до бесконечности."
   ]
  },
  {
   "cell_type": "code",
   "execution_count": null,
   "metadata": {},
   "outputs": [],
   "source": [
    "def f(x):\n",
    "    print(\"x:\", x)\n",
    "\n",
    "print(f.__call__)\n",
    "print(f.__call__.__call__)"
   ]
  },
  {
   "cell_type": "code",
   "execution_count": null,
   "metadata": {
    "scrolled": true
   },
   "outputs": [],
   "source": [
    "f.__call__.__call__(1)"
   ]
  },
  {
   "cell_type": "markdown",
   "metadata": {},
   "source": [
    "## <font color=green>Как сделать экземпляры класса индексируемыми</font>\n",
    "\n",
    "Можно создать класс, чьи экземпляры будут индексируемыми, то есть будет возможность доступа к данным с помощью квадратных скобок `[]`. Иначе говоря, можно имитировать список или словарь. Оператор `[]` настраивается с помощью методов `__setitem__()`, `__getitem__()` и `__delitem__()`.\n",
    "\n",
    "1. Метод `__setitem__(self, key, value)` присваивает новое значение элементу. Вызывается, если квадратные скобки стоят слева от оператора присваивания.\n",
    "```python\n",
    "obj[key] = value\n",
    "```\n",
    "\n",
    "- Метод `__getitem__(self, key)` возвращает значение элемента. Вызывается при получении значения элемента: элемент справа от оператора присваивания, элемент в качестве аргумента функции или операнда.\n",
    "```python\n",
    "s = 2 + obj[key]\n",
    "print(obj[key])\n",
    "```\n",
    "\n",
    "- Метод `__delitem__(self, key)` удаляет элемент. Вызывается, если элемент стоит после слова `del`.\n",
    "```python\n",
    "del obj[key]\n",
    "```\n",
    "\n",
    "### Пример 2. Имитация списка"
   ]
  },
  {
   "cell_type": "code",
   "execution_count": null,
   "metadata": {},
   "outputs": [],
   "source": [
    "class ListImitation:\n",
    "    def __init__(self, data_init):\n",
    "        self._data = list(data_init)\n",
    "    \n",
    "    def __setitem__(self, key, value):\n",
    "        self._data[key] = value\n",
    "    \n",
    "    def __getitem__(self, key):\n",
    "        return self._data[key]\n",
    "    \n",
    "    def __delitem__(self, key):\n",
    "        del self._data[key]\n",
    "    \n",
    "    def __str__(self):\n",
    "        return str(self._data)\n",
    "\n",
    "\n",
    "li = ListImitation((1, 2, 3))\n",
    "print(li)\n",
    "li[0] = 10\n",
    "print(li)\n",
    "del li[1]\n",
    "print(li)\n",
    "print(li[-1])"
   ]
  },
  {
   "cell_type": "markdown",
   "metadata": {},
   "source": [
    "### Пример 3. Имитация словаря"
   ]
  },
  {
   "cell_type": "code",
   "execution_count": null,
   "metadata": {},
   "outputs": [],
   "source": [
    "class DictImitation:\n",
    "    def __init__(self, data_init):\n",
    "        self._data = dict(data_init)\n",
    "    \n",
    "    def __setitem__(self, key, value):\n",
    "        self._data[key] = value\n",
    "    \n",
    "    def __getitem__(self, key):\n",
    "        return self._data[key]\n",
    "    \n",
    "    def __delitem__(self, key):\n",
    "        del self._data[key]\n",
    "    \n",
    "    def __str__(self):\n",
    "        return str(self._data)\n",
    "    \n",
    "\n",
    "di = DictImitation({'a': 'b', (1, 2): 3, 'foo': 'bar'})\n",
    "print(di)\n",
    "di['a'] = 10\n",
    "print(di)\n",
    "del di['a']\n",
    "print(di)\n",
    "print(di[(1, 2)])"
   ]
  },
  {
   "cell_type": "markdown",
   "metadata": {},
   "source": [
    "### Упражнение 2. Многочлен\n",
    "\n",
    "Создайте класс `Polynomial`, имитирующий многочлен одной переменной $x$. \n",
    "\n",
    "Для объектов класса `Polynomial` должны быть определены операторы \n",
    "\n",
    "- сложения `+`, \n",
    "\n",
    "- вычитания `-`, \n",
    "\n",
    "- унарного отрицания `-` (метод `__neg__(self)`),\n",
    "\n",
    "- умножения `*`.\n",
    "\n",
    "- возведения в степень `**` (только для целых неотрицательных чисел).\n",
    "\n",
    "Конструктор должен поддерживать 2 типа входных данных: список и словарь. Если на вход подается список, то этот список содержит коэффициенты членов. Если на вход подан словарь, то ключи словаря -- степени переменной $x$, а значения -- коэффициенты при соответствующих членах.\n",
    "\n",
    "Добавьте методы:\n",
    "\n",
    "- `__str__()` для красивой печати;\n",
    "\n",
    "- `__getitem__()` для получения коэффициента (метод `__getitem__()` должен возвращать `0`, если в многочлене нет искомого слагаемого); \n",
    "\n",
    "- `__setitem__()` для добавления члена или изменения кооэффициента;\n",
    "\n",
    "- `__delitem__()` для удаления члена;\n",
    "\n",
    "- `__call__(self, value)` для вычисления многочлена при $x = \\text{value}$.\n",
    "\n",
    "\n",
    "Задокументируйте сам класс и методы `__init__()`, `__call__()`, `__getitem__()` `__pow__()`. Руководствуйтесь [PEP 257](https://www.python.org/dev/peps/pep-0257/).\n",
    "\n",
    "\n",
    "#### Примеры использования\n",
    "```python\n",
    ">>> p1 = Polynomial([2, 1])\n",
    ">>> p2 = Polynomial({0: -2, 1: 1})\n",
    ">>> print(p1)\n",
    "x + 2\n",
    ">>> print(p2)\n",
    "x - 2\n",
    ">>> print(p1 + p2)\n",
    "2*x\n",
    ">>> print(p1 - p2)\n",
    "4\n",
    ">>> print(-p1 + p2)\n",
    "-4\n",
    ">>> print(p1 * p2)\n",
    "x^2 - 4\n",
    ">>> print(p1 ** 2)\n",
    "x^2 + 4*x + 4\n",
    ">>> print(p2 ** 3)\n",
    "x^3 - 6*x^2 + 12*x - 8\n",
    ">>> print(p2 ** 0)\n",
    "1\n",
    ">>> del p1[1]\n",
    ">>> print(p1)\n",
    "2\n",
    ">>> p1[1] = -1\n",
    ">>> print(p1)\n",
    "-x + 2\n",
    ">>> print(p1[0])\n",
    "2\n",
    ">>> p3 = p1 * p2\n",
    ">>> print(p3)\n",
    "-x^2 + 4*x - 4\n",
    ">>> a = p3(0.5)\n",
    ">>> print(a)\n",
    "-2.25\n",
    ">>> p3[10]\n",
    "0\n",
    "```"
   ]
  },
  {
   "cell_type": "code",
   "execution_count": 282,
   "metadata": {},
   "outputs": [],
   "source": [
    "import math as m\n",
    "class Polynomial:\n",
    "    def __init__(self, data_init):\n",
    "        if type(data_init) == dict:\n",
    "            self.data = dict(data_init)\n",
    "        else:\n",
    "            self.data = {}\n",
    "            for i in range(len(data_init)):\n",
    "                self.data[i] = data_init[i]\n",
    "    \n",
    "    def __setitem__(self, key, value):\n",
    "        self.data[key] = value\n",
    "    \n",
    "    def __getitem__(self, key):\n",
    "        if key > len(self.data):\n",
    "            return 0\n",
    "        else:\n",
    "            return self.data[key]\n",
    "    \n",
    "    def __delitem__(self, key):\n",
    "        del self.data[key]\n",
    "    \n",
    "    def __str__(self):\n",
    "        string = ''\n",
    "        for i in range(len(self.data)):\n",
    "            if i > 0 and self.data[i] < 0:\n",
    "                l = list(string)\n",
    "                l[len(l) - 2] = '-'\n",
    "                string = ''\n",
    "                for jj in range(len(l) - 1):\n",
    "                    string += l[jj]\n",
    "                string += ' '\n",
    "                if self.data[i] == 1:\n",
    "                    if i == 0:\n",
    "                        string += str(self.data[i]) + ' + '\n",
    "                    elif i == 1:\n",
    "                        string += 'x + '\n",
    "                    else:\n",
    "                        string += 'x^' + str(i) + ' + '\n",
    "                elif self.data[i] == -1:\n",
    "                    if i == 0:\n",
    "                        string += str(-self.data[i]) + ' + '\n",
    "                    elif i == 1:\n",
    "                        string += 'x + '\n",
    "                    else:\n",
    "                        string += 'x^' + str(i) + ' + '\n",
    "                else: \n",
    "                    if i == 0:\n",
    "                        string += str(-self.data[i]) + ' + '\n",
    "                    elif i == 1:\n",
    "                        string += str(-self.data[i]) + '*x + '\n",
    "                    else:\n",
    "                        string += str(-self.data[i]) + '*x^' + str(i) + ' + '\n",
    "            else:\n",
    "                if self.data[i] == 0:\n",
    "                    string += ''\n",
    "                elif self.data[i] == 1:\n",
    "                    if i == 0:\n",
    "                        string += str(self.data[i]) + ' + '\n",
    "                    elif i == 1:\n",
    "                        string += 'x + '\n",
    "                    else:\n",
    "                        string += 'x^' + str(i) + ' + '\n",
    "                elif self.data[i] == -1:\n",
    "                    if i == 0:\n",
    "                        string += str(self.data[i]) + ' + '\n",
    "                    elif i == 1:\n",
    "                        string += 'x + '\n",
    "                    else:\n",
    "                        string += 'x^' + str(i) + ' + '\n",
    "                else: \n",
    "                    if i == 0:\n",
    "                        string += str(self.data[i]) + ' + '\n",
    "                    elif i == 1:\n",
    "                        string += str(self.data[i]) + '*x + '\n",
    "                    else:\n",
    "                        string += str(self.data[i]) + '*x^' + str(i) + ' + '\n",
    "        l = list(string)\n",
    "        l[len(l) - 2] = ''\n",
    "        l[len(l) - 2] = ''\n",
    "        l[len(l) - 2] = ''\n",
    "        string = ''\n",
    "        for i in range(len(l) - 1):\n",
    "            string += l[i]\n",
    "        return string\n",
    "    \n",
    "    def __add__(self, other):\n",
    "        p = Polynomial({0: 0})\n",
    "        lenght = max(len(self.data), len(other.data))\n",
    "        for i in range(lenght):\n",
    "            if (i in self.data) == 0:\n",
    "                self.data[i] = 0\n",
    "            if (i in other.data) == 0:\n",
    "                other.data[i] = 0\n",
    "            p[i] = self.data[i] + other.data[i]\n",
    "        return p\n",
    "    \n",
    "    def __sub__(self, other):\n",
    "        p = Polynomial({0: 0})\n",
    "        lenght = max(len(self.data), len(other.data))\n",
    "        for i in range(lenght):\n",
    "            if (i in self.data) == 0:\n",
    "                self.data[i] = 0\n",
    "            if (i in other.data) == 0:\n",
    "                other.data[i] = 0\n",
    "            p[i] = self.data[i] - other.data[i]\n",
    "        return p\n",
    "    \n",
    "    def __neg__(self):\n",
    "        p = Polynomial({0: 0})\n",
    "        for i in range(len(self.data)):\n",
    "            p[i] = -self.data[i]\n",
    "        return p\n",
    "    \n",
    "    def __mul__(self, other):\n",
    "        p = Polynomial({0: 0})\n",
    "        for i in range(len(self.data) + len(other.data)):\n",
    "            p[i] = 0\n",
    "        for i in range(len(self.data)):\n",
    "             for j in range(len(other.data)):\n",
    "                    p[i+j] += self.data[i] * other.data[j]\n",
    "        return p\n",
    "    \n",
    "    def __pow__(self, n):\n",
    "        if n > 0:\n",
    "            p = Polynomial({0: 0})\n",
    "            s = Polynomial({0: 0})\n",
    "            s.data = self.data\n",
    "            for k in range(n - 1):\n",
    "                for i in range(len(self.data) + len(s.data)):\n",
    "                    p[i] = 0\n",
    "                for i in range(len(self.data)):\n",
    "                    for j in range(len(s.data)):\n",
    "                        p[i+j] += self.data[i] * s.data[j]\n",
    "                s.data = p.data\n",
    "                p.data = {0: 0}\n",
    "            return s\n",
    "        else:\n",
    "            return 1\n",
    "    \n",
    "    def __call__(self, x):\n",
    "        sum = 0\n",
    "        for i in range(len(self.data)):\n",
    "            sum += self.data[i] * (x ** i)\n",
    "        return sum"
   ]
  },
  {
   "cell_type": "code",
   "execution_count": 283,
   "metadata": {},
   "outputs": [
    {
     "name": "stdout",
     "output_type": "stream",
     "text": [
      "2 + x \n",
      "-2 + x \n"
     ]
    }
   ],
   "source": [
    "p1 = Polynomial([2, 1])\n",
    "p2 = Polynomial({0: -2, 1: 1})\n",
    "print(p1)\n",
    "print(p2)"
   ]
  },
  {
   "cell_type": "code",
   "execution_count": 284,
   "metadata": {},
   "outputs": [
    {
     "name": "stdout",
     "output_type": "stream",
     "text": [
      "2*x \n",
      "4 \n",
      "-4 \n",
      "-4 + x^2 \n",
      "4 + 4*x + x^2 \n",
      "-8 + 12*x - 6*x^2 + x^3 \n",
      "1\n"
     ]
    }
   ],
   "source": [
    "print(p1 + p2)\n",
    "print(p1 - p2)\n",
    "print(-p1 + p2)\n",
    "print(p1 * p2)\n",
    "print(p1 ** 2)\n",
    "print(p2 ** 3)\n",
    "print(p2 ** 0)"
   ]
  },
  {
   "cell_type": "code",
   "execution_count": 262,
   "metadata": {},
   "outputs": [
    {
     "name": "stdout",
     "output_type": "stream",
     "text": [
      "2 \n",
      "2 - x \n",
      "2\n",
      "0\n"
     ]
    }
   ],
   "source": [
    "del p1[1]\n",
    "print(p1)\n",
    "p1[1] = -1\n",
    "print(p1)\n",
    "print(p1[0])\n",
    "print(p1[10])"
   ]
  },
  {
   "cell_type": "code",
   "execution_count": 263,
   "metadata": {},
   "outputs": [
    {
     "name": "stdout",
     "output_type": "stream",
     "text": [
      "-4 + 4*x - x^2 \n",
      "-2.25\n"
     ]
    }
   ],
   "source": [
    "p3 = p1 * p2\n",
    "print(p3)\n",
    "a = p3(0.5)\n",
    "print(a)"
   ]
  },
  {
   "cell_type": "markdown",
   "metadata": {},
   "source": [
    "### Упражнение 3. Вызов методов родительских классов\n",
    "\n",
    "Из классах `A`, `B` и `C` есть методы `f()` и `g()`, причем все методы `f()` вызывают метод `g()`. \n",
    "1. Допишите в методе `C.m()` вызовы методов `A.f()`, `B.f()`, `C.f()`. \n",
    "\n",
    "2. Модифицируйте методы `A.f()` и `B.f()` так, чтобы при вызове `X.f()`, `X.f()` вызывал `X.g()` (`X` -- это `A` или `B`)."
   ]
  },
  {
   "cell_type": "code",
   "execution_count": 232,
   "metadata": {},
   "outputs": [],
   "source": [
    "class A:\n",
    "    def f(self):\n",
    "        print(\"Method `f()` in class `A`\")\n",
    "        super(B, self).g()\n",
    "        \n",
    "    def g(self):\n",
    "        print(\"Method `g()` in class `A`\")\n",
    "        \n",
    "\n",
    "class B(A):\n",
    "    def f(self):\n",
    "        print(\"Method `f()` in class `B`\")\n",
    "        super(C,self).g()\n",
    "        \n",
    "    def g(self):\n",
    "        print(\"Method `g()` in class `B`\")\n",
    "        \n",
    "\n",
    "class C(B):\n",
    "    def f(self):\n",
    "        print(\"Method `f()` in class `C`\")\n",
    "        self.g()\n",
    "        \n",
    "    def g(self):\n",
    "        print(\"Method `g()` in class `C`\")\n",
    "        \n",
    "    def m(self):\n",
    "        self.f()\n",
    "        super(C, self).f()\n",
    "        super(B,self).f()"
   ]
  },
  {
   "cell_type": "code",
   "execution_count": 233,
   "metadata": {},
   "outputs": [
    {
     "name": "stdout",
     "output_type": "stream",
     "text": [
      "Method `f()` in class `C`\n",
      "Method `g()` in class `C`\n",
      "Method `f()` in class `B`\n",
      "Method `g()` in class `B`\n",
      "Method `f()` in class `A`\n",
      "Method `g()` in class `A`\n"
     ]
    }
   ],
   "source": [
    "c = C()\n",
    "c.m()"
   ]
  },
  {
   "cell_type": "markdown",
   "metadata": {},
   "source": [
    "### Упражнение 4. Ромб смерти\n",
    "\n",
    "Из классов `A`, `B`, `C`, `D`, `E`, `F` составлен ромб сметри. Во всех классах есть метод `f()`. \n",
    "\n",
    "С помощью функции `super()` вызовите методы  `A.f()`, `B.f()`, `C.f()`, `D.f()`, `E.f()` в методе `m()`."
   ]
  },
  {
   "cell_type": "code",
   "execution_count": 245,
   "metadata": {},
   "outputs": [],
   "source": [
    "class A:\n",
    "    def f(self):\n",
    "        print(\"Method `f()` in class `A`\")\n",
    "\n",
    "\n",
    "class B(A):\n",
    "    def f(self):\n",
    "        print(\"Method `f()` in class `B`\")\n",
    "        \n",
    "\n",
    "class C(B):\n",
    "    def f(self):\n",
    "        print(\"Method `f()` in class `C`\")\n",
    "        \n",
    "        \n",
    "class D(A):\n",
    "    def f(self):\n",
    "        print(\"Method `f()` in class `D`\")\n",
    "        \n",
    "        \n",
    "class E(D):\n",
    "    def f(self):\n",
    "        print(\"Method `f()` in class `E`\")\n",
    "\n",
    "\n",
    "class F(C, E):\n",
    "    def f(self):\n",
    "        print(\"Method `f()` in class `F`\")\n",
    "        \n",
    "    def m(self):\n",
    "        super(B, self).f()\n",
    "        super(E, self).f()\n",
    "        super(F, self).f()\n",
    "        super(C, self).f()\n",
    "        super(D, self).f()"
   ]
  },
  {
   "cell_type": "code",
   "execution_count": 246,
   "metadata": {},
   "outputs": [
    {
     "name": "stdout",
     "output_type": "stream",
     "text": [
      "Method `f()` in class `E`\n",
      "Method `f()` in class `D`\n",
      "Method `f()` in class `C`\n",
      "Method `f()` in class `B`\n",
      "Method `f()` in class `A`\n"
     ]
    }
   ],
   "source": [
    "f = F()\n",
    "f.m()"
   ]
  },
  {
   "cell_type": "code",
   "execution_count": null,
   "metadata": {},
   "outputs": [],
   "source": []
  }
 ],
 "metadata": {
  "kernelspec": {
   "display_name": "Python 3",
   "language": "python",
   "name": "python3"
  },
  "language_info": {
   "codemirror_mode": {
    "name": "ipython",
    "version": 3
   },
   "file_extension": ".py",
   "mimetype": "text/x-python",
   "name": "python",
   "nbconvert_exporter": "python",
   "pygments_lexer": "ipython3",
   "version": "3.6.2"
  }
 },
 "nbformat": 4,
 "nbformat_minor": 2
}
